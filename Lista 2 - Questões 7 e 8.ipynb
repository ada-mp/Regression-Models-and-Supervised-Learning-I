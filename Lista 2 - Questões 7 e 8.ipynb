{
 "cells": [
  {
   "cell_type": "markdown",
   "id": "1962a2f7",
   "metadata": {
    "id": "1962a2f7"
   },
   "source": [
    "# **Lista 2**"
   ]
  },
  {
   "cell_type": "markdown",
   "id": "d50c8f70",
   "metadata": {
    "id": "d50c8f70"
   },
   "source": []
  },
  {
   "cell_type": "code",
   "execution_count": 2,
   "id": "affa3a0d",
   "metadata": {
    "executionInfo": {
     "elapsed": 3533,
     "status": "ok",
     "timestamp": 1697044747317,
     "user": {
      "displayName": "Ada Maris Pereira Mário",
      "userId": "06218722616636621407"
     },
     "user_tz": 180
    },
    "id": "affa3a0d"
   },
   "outputs": [],
   "source": [
    "import numpy as np\n",
    "from numpy import sqrt\n",
    "import matplotlib.pyplot as plt\n",
    "import scipy.io as sio\n",
    "import os\n",
    "import random\n",
    "import time\n",
    "import sys\n",
    "from matplotlib import rcParams\n",
    "from scipy.linalg import eigh\n",
    "from sklearn.linear_model import LinearRegression\n",
    "from scipy import stats\n",
    "import statsmodels.api as sm\n",
    "from statsmodels.formula.api import ols\n",
    "import pandas as pd\n",
    "import matplotlib as mpl\n",
    "\n",
    "\n",
    "import statsmodels.formula.api as smf\n",
    "#mpl.rcParams.update(mpl.rcParamsDefault)\n",
    "mpl.rcParams['text.usetex'] = False\n",
    "#plt.rc('text',usetex=True)"
   ]
  },
  {
   "cell_type": "markdown",
   "id": "pf_Qs4UEVXMt",
   "metadata": {
    "id": "pf_Qs4UEVXMt"
   },
   "source": [
    "# **Questão 7**"
   ]
  },
  {
   "cell_type": "markdown",
   "id": "u8_wK0lJVoqV",
   "metadata": {
    "id": "u8_wK0lJVoqV"
   },
   "source": [
    "### a)"
   ]
  },
  {
   "cell_type": "code",
   "execution_count": 3,
   "id": "50dd5310",
   "metadata": {
    "colab": {
     "base_uri": "https://localhost:8080/",
     "height": 455
    },
    "executionInfo": {
     "elapsed": 982,
     "status": "ok",
     "timestamp": 1697044753105,
     "user": {
      "displayName": "Ada Maris Pereira Mário",
      "userId": "06218722616636621407"
     },
     "user_tz": 180
    },
    "id": "50dd5310",
    "outputId": "ad5b1090-a650-4749-8eba-75baf73e9209",
    "scrolled": false
   },
   "outputs": [
    {
     "data": {
      "image/png": "[encoded data removed]",
      "text/plain": [
       "<Figure size 640x480 with 1 Axes>"
      ]
     },
     "metadata": {},
     "output_type": "display_data"
    }
   ],
   "source": [
    "# dados\n",
    "df = pd.DataFrame({'X': [0.5,1.5,3.2,4.2,5.1,6.5],\n",
    "                   'Y': [1.3,3.4,6.7,8.0,10.0,13.2]})\n",
    "\n",
    "Y = df['Y']\n",
    "X = df['X']\n",
    "X = sm.add_constant(X)\n",
    "\n",
    "# inicializando as classes do statsmodel e ajustando o modelo.\n",
    "model = sm.OLS(Y,X)\n",
    "results = model.fit()\n",
    "model_prediction = results.predict(X[['const','X']])\n",
    "\n",
    "fig = plt.figure()\n",
    "\n",
    "\n",
    "plt.plot(X['X'],Y,'o',color='C0',alpha=0.2,label=r'Dados')\n",
    "plt.plot(X['X'],model_prediction,'r-')\n",
    "plt.xlabel(r'$X$',fontsize=16)\n",
    "plt.ylabel(r'$Y$',fontsize=16)\n",
    "\n",
    "for ax in fig.get_axes():\n",
    "\n",
    "    ax.spines['right'].set_visible(False)\n",
    "    ax.spines['top'].set_visible(False)\n",
    "\n",
    "\n",
    "plt.show()"
   ]
  },
  {
   "cell_type": "code",
   "execution_count": 4,
   "id": "ijvPmVqOWy2b",
   "metadata": {
    "colab": {
     "base_uri": "https://localhost:8080/",
     "height": 486
    },
    "executionInfo": {
     "elapsed": 10,
     "status": "ok",
     "timestamp": 1697044757272,
     "user": {
      "displayName": "Ada Maris Pereira Mário",
      "userId": "06218722616636621407"
     },
     "user_tz": 180
    },
    "id": "ijvPmVqOWy2b",
    "outputId": "9a8fc810-fb1f-4b5a-84dd-08c592d2ec07"
   },
   "outputs": [
    {
     "name": "stderr",
     "output_type": "stream",
     "text": [
      "/usr/local/lib/python3.10/dist-packages/statsmodels/stats/stattools.py:74: ValueWarning: omni_normtest is not valid with less than 8 observations; 6 samples were given.\n",
      "  warn(\"omni_normtest is not valid with less than 8 observations; %i \"\n"
     ]
    },
    {
     "data": {
      "text/html": [
       "<table class=\"simpletable\">\n",
       "<caption>OLS Regression Results</caption>\n",
       "<tr>\n",
       "  <th>Dep. Variable:</th>            <td>Y</td>        <th>  R-squared:         </th> <td>   0.996</td>\n",
       "</tr>\n",
       "<tr>\n",
       "  <th>Model:</th>                   <td>OLS</td>       <th>  Adj. R-squared:    </th> <td>   0.995</td>\n",
       "</tr>\n",
       "<tr>\n",
       "  <th>Method:</th>             <td>Least Squares</td>  <th>  F-statistic:       </th> <td>   953.0</td>\n",
       "</tr>\n",
       "<tr>\n",
       "  <th>Date:</th>             <td>Wed, 11 Oct 2023</td> <th>  Prob (F-statistic):</th> <td>6.56e-06</td>\n",
       "</tr>\n",
       "<tr>\n",
       "  <th>Time:</th>                 <td>17:16:28</td>     <th>  Log-Likelihood:    </th> <td>-0.33308</td>\n",
       "</tr>\n",
       "<tr>\n",
       "  <th>No. Observations:</th>      <td>     6</td>      <th>  AIC:               </th> <td>   4.666</td>\n",
       "</tr>\n",
       "<tr>\n",
       "  <th>Df Residuals:</th>          <td>     4</td>      <th>  BIC:               </th> <td>   4.250</td>\n",
       "</tr>\n",
       "<tr>\n",
       "  <th>Df Model:</th>              <td>     1</td>      <th>                     </th>     <td> </td>   \n",
       "</tr>\n",
       "<tr>\n",
       "  <th>Covariance Type:</th>      <td>nonrobust</td>    <th>                     </th>     <td> </td>   \n",
       "</tr>\n",
       "</table>\n",
       "<table class=\"simpletable\">\n",
       "<tr>\n",
       "    <td></td>       <th>coef</th>     <th>std err</th>      <th>t</th>      <th>P>|t|</th>  <th>[0.025</th>    <th>0.975]</th>  \n",
       "</tr>\n",
       "<tr>\n",
       "  <th>const</th> <td>    0.3492</td> <td>    0.253</td> <td>    1.378</td> <td> 0.240</td> <td>   -0.354</td> <td>    1.053</td>\n",
       "</tr>\n",
       "<tr>\n",
       "  <th>X</th>     <td>    1.9288</td> <td>    0.062</td> <td>   30.871</td> <td> 0.000</td> <td>    1.755</td> <td>    2.102</td>\n",
       "</tr>\n",
       "</table>\n",
       "<table class=\"simpletable\">\n",
       "<tr>\n",
       "  <th>Omnibus:</th>       <td>   nan</td> <th>  Durbin-Watson:     </th> <td>   1.897</td>\n",
       "</tr>\n",
       "<tr>\n",
       "  <th>Prob(Omnibus):</th> <td>   nan</td> <th>  Jarque-Bera (JB):  </th> <td>   0.534</td>\n",
       "</tr>\n",
       "<tr>\n",
       "  <th>Skew:</th>          <td>-0.570</td> <th>  Prob(JB):          </th> <td>   0.766</td>\n",
       "</tr>\n",
       "<tr>\n",
       "  <th>Kurtosis:</th>      <td> 2.086</td> <th>  Cond. No.          </th> <td>    8.40</td>\n",
       "</tr>\n",
       "</table><br/><br/>Notes:<br/>[1] Standard Errors assume that the covariance matrix of the errors is correctly specified."
      ],
      "text/latex": [
       "\\begin{center}\n",
       "\\begin{tabular}{lclc}\n",
       "\\toprule\n",
       "\\textbf{Dep. Variable:}    &        Y         & \\textbf{  R-squared:         } &     0.996   \\\\\n",
       "\\textbf{Model:}            &       OLS        & \\textbf{  Adj. R-squared:    } &     0.995   \\\\\n",
       "\\textbf{Method:}           &  Least Squares   & \\textbf{  F-statistic:       } &     953.0   \\\\\n",
       "\\textbf{Date:}             & Wed, 11 Oct 2023 & \\textbf{  Prob (F-statistic):} &  6.56e-06   \\\\\n",
       "\\textbf{Time:}             &     17:16:28     & \\textbf{  Log-Likelihood:    } &  -0.33308   \\\\\n",
       "\\textbf{No. Observations:} &           6      & \\textbf{  AIC:               } &     4.666   \\\\\n",
       "\\textbf{Df Residuals:}     &           4      & \\textbf{  BIC:               } &     4.250   \\\\\n",
       "\\textbf{Df Model:}         &           1      & \\textbf{                     } &             \\\\\n",
       "\\textbf{Covariance Type:}  &    nonrobust     & \\textbf{                     } &             \\\\\n",
       "\\bottomrule\n",
       "\\end{tabular}\n",
       "\\begin{tabular}{lcccccc}\n",
       "               & \\textbf{coef} & \\textbf{std err} & \\textbf{t} & \\textbf{P$> |$t$|$} & \\textbf{[0.025} & \\textbf{0.975]}  \\\\\n",
       "\\midrule\n",
       "\\textbf{const} &       0.3492  &        0.253     &     1.378  &         0.240        &       -0.354    &        1.053     \\\\\n",
       "\\textbf{X}     &       1.9288  &        0.062     &    30.871  &         0.000        &        1.755    &        2.102     \\\\\n",
       "\\bottomrule\n",
       "\\end{tabular}\n",
       "\\begin{tabular}{lclc}\n",
       "\\textbf{Omnibus:}       &    nan & \\textbf{  Durbin-Watson:     } &    1.897  \\\\\n",
       "\\textbf{Prob(Omnibus):} &    nan & \\textbf{  Jarque-Bera (JB):  } &    0.534  \\\\\n",
       "\\textbf{Skew:}          & -0.570 & \\textbf{  Prob(JB):          } &    0.766  \\\\\n",
       "\\textbf{Kurtosis:}      &  2.086 & \\textbf{  Cond. No.          } &     8.40  \\\\\n",
       "\\bottomrule\n",
       "\\end{tabular}\n",
       "%\\caption{OLS Regression Results}\n",
       "\\end{center}\n",
       "\n",
       "Notes: \\newline\n",
       " [1] Standard Errors assume that the covariance matrix of the errors is correctly specified."
      ],
      "text/plain": [
       "<class 'statsmodels.iolib.summary.Summary'>\n",
       "\"\"\"\n",
       "                            OLS Regression Results                            \n",
       "==============================================================================\n",
       "Dep. Variable:                      Y   R-squared:                       0.996\n",
       "Model:                            OLS   Adj. R-squared:                  0.995\n",
       "Method:                 Least Squares   F-statistic:                     953.0\n",
       "Date:                Wed, 11 Oct 2023   Prob (F-statistic):           6.56e-06\n",
       "Time:                        17:16:28   Log-Likelihood:               -0.33308\n",
       "No. Observations:                   6   AIC:                             4.666\n",
       "Df Residuals:                       4   BIC:                             4.250\n",
       "Df Model:                           1                                         \n",
       "Covariance Type:            nonrobust                                         \n",
       "==============================================================================\n",
       "                 coef    std err          t      P>|t|      [0.025      0.975]\n",
       "------------------------------------------------------------------------------\n",
       "const          0.3492      0.253      1.378      0.240      -0.354       1.053\n",
       "X              1.9288      0.062     30.871      0.000       1.755       2.102\n",
       "==============================================================================\n",
       "Omnibus:                          nan   Durbin-Watson:                   1.897\n",
       "Prob(Omnibus):                    nan   Jarque-Bera (JB):                0.534\n",
       "Skew:                          -0.570   Prob(JB):                        0.766\n",
       "Kurtosis:                       2.086   Cond. No.                         8.40\n",
       "==============================================================================\n",
       "\n",
       "Notes:\n",
       "[1] Standard Errors assume that the covariance matrix of the errors is correctly specified.\n",
       "\"\"\""
      ]
     },
     "execution_count": 4,
     "metadata": {},
     "output_type": "execute_result"
    }
   ],
   "source": [
    "results.summary()"
   ]
  },
  {
   "cell_type": "markdown",
   "id": "9281bdad",
   "metadata": {
    "id": "9281bdad"
   },
   "source": [
    "## b)"
   ]
  },
  {
   "cell_type": "code",
   "execution_count": 5,
   "id": "xqcBul9BQzFL",
   "metadata": {
    "colab": {
     "base_uri": "https://localhost:8080/"
    },
    "executionInfo": {
     "elapsed": 13,
     "status": "ok",
     "timestamp": 1697044762279,
     "user": {
      "displayName": "Ada Maris Pereira Mário",
      "userId": "06218722616636621407"
     },
     "user_tz": 180
    },
    "id": "xqcBul9BQzFL",
    "outputId": "a7152b05-df4a-4095-dca0-90827c82d228"
   },
   "outputs": [
    {
     "data": {
      "text/plain": [
       "const    0.349204\n",
       "X        1.928799\n",
       "dtype: float64"
      ]
     },
     "execution_count": 5,
     "metadata": {},
     "output_type": "execute_result"
    }
   ],
   "source": [
    "results.params"
   ]
  },
  {
   "cell_type": "code",
   "execution_count": 6,
   "id": "kwss99xfRK5P",
   "metadata": {
    "colab": {
     "base_uri": "https://localhost:8080/"
    },
    "executionInfo": {
     "elapsed": 4,
     "status": "ok",
     "timestamp": 1697044764530,
     "user": {
      "displayName": "Ada Maris Pereira Mário",
      "userId": "06218722616636621407"
     },
     "user_tz": 180
    },
    "id": "kwss99xfRK5P",
    "outputId": "4c0655ab-fe84-4dd6-ccb4-adc37ec70458"
   },
   "outputs": [
    {
     "data": {
      "text/plain": [
       "const    0.253329\n",
       "X        0.062479\n",
       "dtype: float64"
      ]
     },
     "execution_count": 6,
     "metadata": {},
     "output_type": "execute_result"
    }
   ],
   "source": [
    "results.bse"
   ]
  },
  {
   "cell_type": "code",
   "execution_count": 7,
   "id": "9qETUrr_RDoB",
   "metadata": {
    "colab": {
     "base_uri": "https://localhost:8080/"
    },
    "executionInfo": {
     "elapsed": 1136,
     "status": "ok",
     "timestamp": 1697044769115,
     "user": {
      "displayName": "Ada Maris Pereira Mário",
      "userId": "06218722616636621407"
     },
     "user_tz": 180
    },
    "id": "9qETUrr_RDoB",
    "outputId": "b2844497-7c8f-4794-be3e-682f19ef90ac"
   },
   "outputs": [
    {
     "data": {
      "text/plain": [
       "1.3784599881744644"
      ]
     },
     "execution_count": 7,
     "metadata": {},
     "output_type": "execute_result"
    }
   ],
   "source": [
    "t_beta0 = results.params['const']/results.bse['const']\n",
    "t_beta0"
   ]
  },
  {
   "cell_type": "code",
   "execution_count": 8,
   "id": "NWxZvoWfVHyK",
   "metadata": {
    "colab": {
     "base_uri": "https://localhost:8080/"
    },
    "executionInfo": {
     "elapsed": 8,
     "status": "ok",
     "timestamp": 1697044771986,
     "user": {
      "displayName": "Ada Maris Pereira Mário",
      "userId": "06218722616636621407"
     },
     "user_tz": 180
    },
    "id": "NWxZvoWfVHyK",
    "outputId": "1eb3ea76-18dc-4cb7-aa73-470103f575f1"
   },
   "outputs": [
    {
     "name": "stdout",
     "output_type": "stream",
     "text": [
      "                             Test for Constraints                             \n",
      "==============================================================================\n",
      "                 coef    std err          t      P>|t|      [0.025      0.975]\n",
      "------------------------------------------------------------------------------\n",
      "c0             0.3492      0.253      1.378      0.240      -0.354       1.053\n",
      "==============================================================================\n"
     ]
    }
   ],
   "source": [
    "hypothesis = 'const = 0' # Hipótese nula\n",
    "t_test = results.t_test(hypothesis)\n",
    "print(t_test)"
   ]
  },
  {
   "cell_type": "code",
   "execution_count": 35,
   "id": "5BLnWAt8vD4U",
   "metadata": {
    "colab": {
     "base_uri": "https://localhost:8080/"
    },
    "executionInfo": {
     "elapsed": 609,
     "status": "ok",
     "timestamp": 1697046429218,
     "user": {
      "displayName": "Ada Maris Pereira Mário",
      "userId": "06218722616636621407"
     },
     "user_tz": 180
    },
    "id": "5BLnWAt8vD4U",
    "outputId": "8e30cff2-5cd5-4e31-b47d-a9668f84b3d1"
   },
   "outputs": [
    {
     "data": {
      "text/plain": [
       "2.1318467813362907"
      ]
     },
     "execution_count": 35,
     "metadata": {},
     "output_type": "execute_result"
    }
   ],
   "source": [
    "t = abs(stats.t.ppf(0.05,4))\n",
    "t"
   ]
  },
  {
   "cell_type": "markdown",
   "id": "C4OadO0d6bvk",
   "metadata": {
    "id": "C4OadO0d6bvk"
   },
   "source": [
    "Uma vez que $t=2.132 > 1.378=t^*$, não se rejeita $H_0:{{\\beta}_0} = 0$, com 90% de confiança."
   ]
  },
  {
   "cell_type": "markdown",
   "id": "vqIqkWBqYobh",
   "metadata": {
    "id": "vqIqkWBqYobh"
   },
   "source": [
    "# **Questão 8**"
   ]
  },
  {
   "cell_type": "markdown",
   "id": "3UrlC9b9YsM1",
   "metadata": {
    "id": "3UrlC9b9YsM1"
   },
   "source": [
    "### a)"
   ]
  },
  {
   "cell_type": "markdown",
   "id": "F4TPREMVYw5T",
   "metadata": {
    "id": "F4TPREMVYw5T"
   },
   "source": [
    "Neste problema, queremos determinar a idades dos moluscos do gênero Haliotis com base no tamanho de suas conchas. Uma atividade complexa, uma vez que o crescimento desses indivíduos não depende apenas de seu tempo de vida, mas também da disponibilidade de alimento.\n",
    "\n",
    "A hipótese que verificaremos é que existe uma relação linear entre altura da concha e idade do molusco (n° de anéis), em que conchas maiores indicam maior tempo de vida. Para isso, consideramos um modelo de regressão linear simples com\n",
    "erros normais."
   ]
  },
  {
   "cell_type": "markdown",
   "id": "khJ-A7nqLzVn",
   "metadata": {
    "id": "khJ-A7nqLzVn"
   },
   "source": [
    "### b)"
   ]
  },
  {
   "cell_type": "code",
   "execution_count": 13,
   "id": "jyTFtIXzYvy8",
   "metadata": {
    "executionInfo": {
     "elapsed": 732,
     "status": "ok",
     "timestamp": 1697045541121,
     "user": {
      "displayName": "Ada Maris Pereira Mário",
      "userId": "06218722616636621407"
     },
     "user_tz": 180
    },
    "id": "jyTFtIXzYvy8"
   },
   "outputs": [],
   "source": [
    "molusco = pd.read_csv('molusco.csv')"
   ]
  },
  {
   "cell_type": "code",
   "execution_count": 14,
   "id": "jAuTfv3CMT7s",
   "metadata": {
    "colab": {
     "base_uri": "https://localhost:8080/",
     "height": 677
    },
    "executionInfo": {
     "elapsed": 740,
     "status": "ok",
     "timestamp": 1697045542560,
     "user": {
      "displayName": "Ada Maris Pereira Mário",
      "userId": "06218722616636621407"
     },
     "user_tz": 180
    },
    "id": "jAuTfv3CMT7s",
    "outputId": "85c778a3-7708-4502-b954-b53c07317fea"
   },
   "outputs": [
    {
     "data": {
      "text/html": [
       "\n",
       "  <div id=\"df-d2f89026-931c-441e-9ce4-e6aeab216ac1\" class=\"colab-df-container\">\n",
       "    <div>\n",
       "<style scoped>\n",
       "    .dataframe tbody tr th:only-of-type {\n",
       "        vertical-align: middle;\n",
       "    }\n",
       "\n",
       "    .dataframe tbody tr th {\n",
       "        vertical-align: top;\n",
       "    }\n",
       "\n",
       "    .dataframe thead th {\n",
       "        text-align: right;\n",
       "    }\n",
       "</style>\n",
       "<table border=\"1\" class=\"dataframe\">\n",
       "  <thead>\n",
       "    <tr style=\"text-align: right;\">\n",
       "      <th></th>\n",
       "      <th>Height</th>\n",
       "      <th>Rings</th>\n",
       "    </tr>\n",
       "  </thead>\n",
       "  <tbody>\n",
       "    <tr>\n",
       "      <th>0</th>\n",
       "      <td>0.095</td>\n",
       "      <td>15</td>\n",
       "    </tr>\n",
       "    <tr>\n",
       "      <th>1</th>\n",
       "      <td>0.090</td>\n",
       "      <td>7</td>\n",
       "    </tr>\n",
       "    <tr>\n",
       "      <th>2</th>\n",
       "      <td>0.135</td>\n",
       "      <td>9</td>\n",
       "    </tr>\n",
       "    <tr>\n",
       "      <th>3</th>\n",
       "      <td>0.125</td>\n",
       "      <td>10</td>\n",
       "    </tr>\n",
       "    <tr>\n",
       "      <th>4</th>\n",
       "      <td>0.080</td>\n",
       "      <td>7</td>\n",
       "    </tr>\n",
       "    <tr>\n",
       "      <th>5</th>\n",
       "      <td>0.095</td>\n",
       "      <td>8</td>\n",
       "    </tr>\n",
       "    <tr>\n",
       "      <th>6</th>\n",
       "      <td>0.150</td>\n",
       "      <td>20</td>\n",
       "    </tr>\n",
       "    <tr>\n",
       "      <th>7</th>\n",
       "      <td>0.125</td>\n",
       "      <td>16</td>\n",
       "    </tr>\n",
       "    <tr>\n",
       "      <th>8</th>\n",
       "      <td>0.125</td>\n",
       "      <td>9</td>\n",
       "    </tr>\n",
       "    <tr>\n",
       "      <th>9</th>\n",
       "      <td>0.150</td>\n",
       "      <td>19</td>\n",
       "    </tr>\n",
       "    <tr>\n",
       "      <th>10</th>\n",
       "      <td>0.140</td>\n",
       "      <td>14</td>\n",
       "    </tr>\n",
       "    <tr>\n",
       "      <th>11</th>\n",
       "      <td>0.110</td>\n",
       "      <td>10</td>\n",
       "    </tr>\n",
       "    <tr>\n",
       "      <th>12</th>\n",
       "      <td>0.135</td>\n",
       "      <td>11</td>\n",
       "    </tr>\n",
       "    <tr>\n",
       "      <th>13</th>\n",
       "      <td>0.145</td>\n",
       "      <td>10</td>\n",
       "    </tr>\n",
       "    <tr>\n",
       "      <th>14</th>\n",
       "      <td>0.100</td>\n",
       "      <td>10</td>\n",
       "    </tr>\n",
       "    <tr>\n",
       "      <th>15</th>\n",
       "      <td>0.130</td>\n",
       "      <td>12</td>\n",
       "    </tr>\n",
       "    <tr>\n",
       "      <th>16</th>\n",
       "      <td>0.085</td>\n",
       "      <td>7</td>\n",
       "    </tr>\n",
       "    <tr>\n",
       "      <th>17</th>\n",
       "      <td>0.100</td>\n",
       "      <td>10</td>\n",
       "    </tr>\n",
       "    <tr>\n",
       "      <th>18</th>\n",
       "      <td>0.080</td>\n",
       "      <td>7</td>\n",
       "    </tr>\n",
       "    <tr>\n",
       "      <th>19</th>\n",
       "      <td>0.100</td>\n",
       "      <td>9</td>\n",
       "    </tr>\n",
       "  </tbody>\n",
       "</table>\n",
       "</div>\n",
       "    <div class=\"colab-df-buttons\">\n",
       "\n",
       "  <div class=\"colab-df-container\">\n",
       "    <button class=\"colab-df-convert\" onclick=\"convertToInteractive('df-d2f89026-931c-441e-9ce4-e6aeab216ac1')\"\n",
       "            title=\"Convert this dataframe to an interactive table.\"\n",
       "            style=\"display:none;\">\n",
       "\n",
       "  <svg xmlns=\"http://www.w3.org/2000/svg\" height=\"24px\" viewBox=\"0 -960 960 960\">\n",
       "    <path d=\"M120-120v-720h720v720H120Zm60-500h600v-160H180v160Zm220 220h160v-160H400v160Zm0 220h160v-160H400v160ZM180-400h160v-160H180v160Zm440 0h160v-160H620v160ZM180-180h160v-160H180v160Zm440 0h160v-160H620v160Z\"/>\n",
       "  </svg>\n",
       "    </button>\n",
       "\n",
       "  <style>\n",
       "    .colab-df-container {\n",
       "      display:flex;\n",
       "      gap: 12px;\n",
       "    }\n",
       "\n",
       "    .colab-df-convert {\n",
       "      background-color: #E8F0FE;\n",
       "      border: none;\n",
       "      border-radius: 50%;\n",
       "      cursor: pointer;\n",
       "      display: none;\n",
       "      fill: #1967D2;\n",
       "      height: 32px;\n",
       "      padding: 0 0 0 0;\n",
       "      width: 32px;\n",
       "    }\n",
       "\n",
       "    .colab-df-convert:hover {\n",
       "      background-color: #E2EBFA;\n",
       "      box-shadow: 0px 1px 2px rgba(60, 64, 67, 0.3), 0px 1px 3px 1px rgba(60, 64, 67, 0.15);\n",
       "      fill: #174EA6;\n",
       "    }\n",
       "\n",
       "    .colab-df-buttons div {\n",
       "      margin-bottom: 4px;\n",
       "    }\n",
       "\n",
       "    [theme=dark] .colab-df-convert {\n",
       "      background-color: #3B4455;\n",
       "      fill: #D2E3FC;\n",
       "    }\n",
       "\n",
       "    [theme=dark] .colab-df-convert:hover {\n",
       "      background-color: #434B5C;\n",
       "      box-shadow: 0px 1px 3px 1px rgba(0, 0, 0, 0.15);\n",
       "      filter: drop-shadow(0px 1px 2px rgba(0, 0, 0, 0.3));\n",
       "      fill: #FFFFFF;\n",
       "    }\n",
       "  </style>\n",
       "\n",
       "    <script>\n",
       "      const buttonEl =\n",
       "        document.querySelector('#df-d2f89026-931c-441e-9ce4-e6aeab216ac1 button.colab-df-convert');\n",
       "      buttonEl.style.display =\n",
       "        google.colab.kernel.accessAllowed ? 'block' : 'none';\n",
       "\n",
       "      async function convertToInteractive(key) {\n",
       "        const element = document.querySelector('#df-d2f89026-931c-441e-9ce4-e6aeab216ac1');\n",
       "        const dataTable =\n",
       "          await google.colab.kernel.invokeFunction('convertToInteractive',\n",
       "                                                    [key], {});\n",
       "        if (!dataTable) return;\n",
       "\n",
       "        const docLinkHtml = 'Like what you see? Visit the ' +\n",
       "          '<a target=\"_blank\" href=https://colab.research.google.com/notebooks/data_table.ipynb>data table notebook</a>'\n",
       "          + ' to learn more about interactive tables.';\n",
       "        element.innerHTML = '';\n",
       "        dataTable['output_type'] = 'display_data';\n",
       "        await google.colab.output.renderOutput(dataTable, element);\n",
       "        const docLink = document.createElement('div');\n",
       "        docLink.innerHTML = docLinkHtml;\n",
       "        element.appendChild(docLink);\n",
       "      }\n",
       "    </script>\n",
       "  </div>\n",
       "\n",
       "\n",
       "<div id=\"df-24bea161-6e53-4a79-9184-77cc4ad56a29\">\n",
       "  <button class=\"colab-df-quickchart\" onclick=\"quickchart('df-24bea161-6e53-4a79-9184-77cc4ad56a29')\"\n",
       "            title=\"Suggest charts.\"\n",
       "            style=\"display:none;\">\n",
       "\n",
       "<svg xmlns=\"http://www.w3.org/2000/svg\" height=\"24px\"viewBox=\"0 0 24 24\"\n",
       "     width=\"24px\">\n",
       "    <g>\n",
       "        <path d=\"M19 3H5c-1.1 0-2 .9-2 2v14c0 1.1.9 2 2 2h14c1.1 0 2-.9 2-2V5c0-1.1-.9-2-2-2zM9 17H7v-7h2v7zm4 0h-2V7h2v10zm4 0h-2v-4h2v4z\"/>\n",
       "    </g>\n",
       "</svg>\n",
       "  </button>\n",
       "\n",
       "<style>\n",
       "  .colab-df-quickchart {\n",
       "      --bg-color: #E8F0FE;\n",
       "      --fill-color: #1967D2;\n",
       "      --hover-bg-color: #E2EBFA;\n",
       "      --hover-fill-color: #174EA6;\n",
       "      --disabled-fill-color: #AAA;\n",
       "      --disabled-bg-color: #DDD;\n",
       "  }\n",
       "\n",
       "  [theme=dark] .colab-df-quickchart {\n",
       "      --bg-color: #3B4455;\n",
       "      --fill-color: #D2E3FC;\n",
       "      --hover-bg-color: #434B5C;\n",
       "      --hover-fill-color: #FFFFFF;\n",
       "      --disabled-bg-color: #3B4455;\n",
       "      --disabled-fill-color: #666;\n",
       "  }\n",
       "\n",
       "  .colab-df-quickchart {\n",
       "    background-color: var(--bg-color);\n",
       "    border: none;\n",
       "    border-radius: 50%;\n",
       "    cursor: pointer;\n",
       "    display: none;\n",
       "    fill: var(--fill-color);\n",
       "    height: 32px;\n",
       "    padding: 0;\n",
       "    width: 32px;\n",
       "  }\n",
       "\n",
       "  .colab-df-quickchart:hover {\n",
       "    background-color: var(--hover-bg-color);\n",
       "    box-shadow: 0 1px 2px rgba(60, 64, 67, 0.3), 0 1px 3px 1px rgba(60, 64, 67, 0.15);\n",
       "    fill: var(--button-hover-fill-color);\n",
       "  }\n",
       "\n",
       "  .colab-df-quickchart-complete:disabled,\n",
       "  .colab-df-quickchart-complete:disabled:hover {\n",
       "    background-color: var(--disabled-bg-color);\n",
       "    fill: var(--disabled-fill-color);\n",
       "    box-shadow: none;\n",
       "  }\n",
       "\n",
       "  .colab-df-spinner {\n",
       "    border: 2px solid var(--fill-color);\n",
       "    border-color: transparent;\n",
       "    border-bottom-color: var(--fill-color);\n",
       "    animation:\n",
       "      spin 1s steps(1) infinite;\n",
       "  }\n",
       "\n",
       "  @keyframes spin {\n",
       "    0% {\n",
       "      border-color: transparent;\n",
       "      border-bottom-color: var(--fill-color);\n",
       "      border-left-color: var(--fill-color);\n",
       "    }\n",
       "    20% {\n",
       "      border-color: transparent;\n",
       "      border-left-color: var(--fill-color);\n",
       "      border-top-color: var(--fill-color);\n",
       "    }\n",
       "    30% {\n",
       "      border-color: transparent;\n",
       "      border-left-color: var(--fill-color);\n",
       "      border-top-color: var(--fill-color);\n",
       "      border-right-color: var(--fill-color);\n",
       "    }\n",
       "    40% {\n",
       "      border-color: transparent;\n",
       "      border-right-color: var(--fill-color);\n",
       "      border-top-color: var(--fill-color);\n",
       "    }\n",
       "    60% {\n",
       "      border-color: transparent;\n",
       "      border-right-color: var(--fill-color);\n",
       "    }\n",
       "    80% {\n",
       "      border-color: transparent;\n",
       "      border-right-color: var(--fill-color);\n",
       "      border-bottom-color: var(--fill-color);\n",
       "    }\n",
       "    90% {\n",
       "      border-color: transparent;\n",
       "      border-bottom-color: var(--fill-color);\n",
       "    }\n",
       "  }\n",
       "</style>\n",
       "\n",
       "  <script>\n",
       "    async function quickchart(key) {\n",
       "      const quickchartButtonEl =\n",
       "        document.querySelector('#' + key + ' button');\n",
       "      quickchartButtonEl.disabled = true;  // To prevent multiple clicks.\n",
       "      quickchartButtonEl.classList.add('colab-df-spinner');\n",
       "      try {\n",
       "        const charts = await google.colab.kernel.invokeFunction(\n",
       "            'suggestCharts', [key], {});\n",
       "      } catch (error) {\n",
       "        console.error('Error during call to suggestCharts:', error);\n",
       "      }\n",
       "      quickchartButtonEl.classList.remove('colab-df-spinner');\n",
       "      quickchartButtonEl.classList.add('colab-df-quickchart-complete');\n",
       "    }\n",
       "    (() => {\n",
       "      let quickchartButtonEl =\n",
       "        document.querySelector('#df-24bea161-6e53-4a79-9184-77cc4ad56a29 button');\n",
       "      quickchartButtonEl.style.display =\n",
       "        google.colab.kernel.accessAllowed ? 'block' : 'none';\n",
       "    })();\n",
       "  </script>\n",
       "</div>\n",
       "    </div>\n",
       "  </div>\n"
      ],
      "text/plain": [
       "    Height  Rings\n",
       "0    0.095     15\n",
       "1    0.090      7\n",
       "2    0.135      9\n",
       "3    0.125     10\n",
       "4    0.080      7\n",
       "5    0.095      8\n",
       "6    0.150     20\n",
       "7    0.125     16\n",
       "8    0.125      9\n",
       "9    0.150     19\n",
       "10   0.140     14\n",
       "11   0.110     10\n",
       "12   0.135     11\n",
       "13   0.145     10\n",
       "14   0.100     10\n",
       "15   0.130     12\n",
       "16   0.085      7\n",
       "17   0.100     10\n",
       "18   0.080      7\n",
       "19   0.100      9"
      ]
     },
     "execution_count": 14,
     "metadata": {},
     "output_type": "execute_result"
    }
   ],
   "source": [
    "molusco.head(20)"
   ]
  },
  {
   "cell_type": "code",
   "execution_count": 15,
   "id": "7IMaa-rCMW70",
   "metadata": {
    "colab": {
     "base_uri": "https://localhost:8080/",
     "height": 300
    },
    "executionInfo": {
     "elapsed": 13,
     "status": "ok",
     "timestamp": 1697045547053,
     "user": {
      "displayName": "Ada Maris Pereira Mário",
      "userId": "06218722616636621407"
     },
     "user_tz": 180
    },
    "id": "7IMaa-rCMW70",
    "outputId": "0a8c9da6-21cb-4e2f-b8c3-47506aaf8dde"
   },
   "outputs": [
    {
     "data": {
      "text/html": [
       "\n",
       "  <div id=\"df-1c485b1e-b7bf-40e1-97d2-6e119e3ebdab\" class=\"colab-df-container\">\n",
       "    <div>\n",
       "<style scoped>\n",
       "    .dataframe tbody tr th:only-of-type {\n",
       "        vertical-align: middle;\n",
       "    }\n",
       "\n",
       "    .dataframe tbody tr th {\n",
       "        vertical-align: top;\n",
       "    }\n",
       "\n",
       "    .dataframe thead th {\n",
       "        text-align: right;\n",
       "    }\n",
       "</style>\n",
       "<table border=\"1\" class=\"dataframe\">\n",
       "  <thead>\n",
       "    <tr style=\"text-align: right;\">\n",
       "      <th></th>\n",
       "      <th>Height</th>\n",
       "      <th>Rings</th>\n",
       "    </tr>\n",
       "  </thead>\n",
       "  <tbody>\n",
       "    <tr>\n",
       "      <th>count</th>\n",
       "      <td>4177.000000</td>\n",
       "      <td>4177.000000</td>\n",
       "    </tr>\n",
       "    <tr>\n",
       "      <th>mean</th>\n",
       "      <td>0.139516</td>\n",
       "      <td>9.933684</td>\n",
       "    </tr>\n",
       "    <tr>\n",
       "      <th>std</th>\n",
       "      <td>0.041827</td>\n",
       "      <td>3.224169</td>\n",
       "    </tr>\n",
       "    <tr>\n",
       "      <th>min</th>\n",
       "      <td>0.000000</td>\n",
       "      <td>1.000000</td>\n",
       "    </tr>\n",
       "    <tr>\n",
       "      <th>25%</th>\n",
       "      <td>0.115000</td>\n",
       "      <td>8.000000</td>\n",
       "    </tr>\n",
       "    <tr>\n",
       "      <th>50%</th>\n",
       "      <td>0.140000</td>\n",
       "      <td>9.000000</td>\n",
       "    </tr>\n",
       "    <tr>\n",
       "      <th>75%</th>\n",
       "      <td>0.165000</td>\n",
       "      <td>11.000000</td>\n",
       "    </tr>\n",
       "    <tr>\n",
       "      <th>max</th>\n",
       "      <td>1.130000</td>\n",
       "      <td>29.000000</td>\n",
       "    </tr>\n",
       "  </tbody>\n",
       "</table>\n",
       "</div>\n",
       "    <div class=\"colab-df-buttons\">\n",
       "\n",
       "  <div class=\"colab-df-container\">\n",
       "    <button class=\"colab-df-convert\" onclick=\"convertToInteractive('df-1c485b1e-b7bf-40e1-97d2-6e119e3ebdab')\"\n",
       "            title=\"Convert this dataframe to an interactive table.\"\n",
       "            style=\"display:none;\">\n",
       "\n",
       "  <svg xmlns=\"http://www.w3.org/2000/svg\" height=\"24px\" viewBox=\"0 -960 960 960\">\n",
       "    <path d=\"M120-120v-720h720v720H120Zm60-500h600v-160H180v160Zm220 220h160v-160H400v160Zm0 220h160v-160H400v160ZM180-400h160v-160H180v160Zm440 0h160v-160H620v160ZM180-180h160v-160H180v160Zm440 0h160v-160H620v160Z\"/>\n",
       "  </svg>\n",
       "    </button>\n",
       "\n",
       "  <style>\n",
       "    .colab-df-container {\n",
       "      display:flex;\n",
       "      gap: 12px;\n",
       "    }\n",
       "\n",
       "    .colab-df-convert {\n",
       "      background-color: #E8F0FE;\n",
       "      border: none;\n",
       "      border-radius: 50%;\n",
       "      cursor: pointer;\n",
       "      display: none;\n",
       "      fill: #1967D2;\n",
       "      height: 32px;\n",
       "      padding: 0 0 0 0;\n",
       "      width: 32px;\n",
       "    }\n",
       "\n",
       "    .colab-df-convert:hover {\n",
       "      background-color: #E2EBFA;\n",
       "      box-shadow: 0px 1px 2px rgba(60, 64, 67, 0.3), 0px 1px 3px 1px rgba(60, 64, 67, 0.15);\n",
       "      fill: #174EA6;\n",
       "    }\n",
       "\n",
       "    .colab-df-buttons div {\n",
       "      margin-bottom: 4px;\n",
       "    }\n",
       "\n",
       "    [theme=dark] .colab-df-convert {\n",
       "      background-color: #3B4455;\n",
       "      fill: #D2E3FC;\n",
       "    }\n",
       "\n",
       "    [theme=dark] .colab-df-convert:hover {\n",
       "      background-color: #434B5C;\n",
       "      box-shadow: 0px 1px 3px 1px rgba(0, 0, 0, 0.15);\n",
       "      filter: drop-shadow(0px 1px 2px rgba(0, 0, 0, 0.3));\n",
       "      fill: #FFFFFF;\n",
       "    }\n",
       "  </style>\n",
       "\n",
       "    <script>\n",
       "      const buttonEl =\n",
       "        document.querySelector('#df-1c485b1e-b7bf-40e1-97d2-6e119e3ebdab button.colab-df-convert');\n",
       "      buttonEl.style.display =\n",
       "        google.colab.kernel.accessAllowed ? 'block' : 'none';\n",
       "\n",
       "      async function convertToInteractive(key) {\n",
       "        const element = document.querySelector('#df-1c485b1e-b7bf-40e1-97d2-6e119e3ebdab');\n",
       "        const dataTable =\n",
       "          await google.colab.kernel.invokeFunction('convertToInteractive',\n",
       "                                                    [key], {});\n",
       "        if (!dataTable) return;\n",
       "\n",
       "        const docLinkHtml = 'Like what you see? Visit the ' +\n",
       "          '<a target=\"_blank\" href=https://colab.research.google.com/notebooks/data_table.ipynb>data table notebook</a>'\n",
       "          + ' to learn more about interactive tables.';\n",
       "        element.innerHTML = '';\n",
       "        dataTable['output_type'] = 'display_data';\n",
       "        await google.colab.output.renderOutput(dataTable, element);\n",
       "        const docLink = document.createElement('div');\n",
       "        docLink.innerHTML = docLinkHtml;\n",
       "        element.appendChild(docLink);\n",
       "      }\n",
       "    </script>\n",
       "  </div>\n",
       "\n",
       "\n",
       "<div id=\"df-736e3a12-c1ca-4118-9206-96953d458641\">\n",
       "  <button class=\"colab-df-quickchart\" onclick=\"quickchart('df-736e3a12-c1ca-4118-9206-96953d458641')\"\n",
       "            title=\"Suggest charts.\"\n",
       "            style=\"display:none;\">\n",
       "\n",
       "<svg xmlns=\"http://www.w3.org/2000/svg\" height=\"24px\"viewBox=\"0 0 24 24\"\n",
       "     width=\"24px\">\n",
       "    <g>\n",
       "        <path d=\"M19 3H5c-1.1 0-2 .9-2 2v14c0 1.1.9 2 2 2h14c1.1 0 2-.9 2-2V5c0-1.1-.9-2-2-2zM9 17H7v-7h2v7zm4 0h-2V7h2v10zm4 0h-2v-4h2v4z\"/>\n",
       "    </g>\n",
       "</svg>\n",
       "  </button>\n",
       "\n",
       "<style>\n",
       "  .colab-df-quickchart {\n",
       "      --bg-color: #E8F0FE;\n",
       "      --fill-color: #1967D2;\n",
       "      --hover-bg-color: #E2EBFA;\n",
       "      --hover-fill-color: #174EA6;\n",
       "      --disabled-fill-color: #AAA;\n",
       "      --disabled-bg-color: #DDD;\n",
       "  }\n",
       "\n",
       "  [theme=dark] .colab-df-quickchart {\n",
       "      --bg-color: #3B4455;\n",
       "      --fill-color: #D2E3FC;\n",
       "      --hover-bg-color: #434B5C;\n",
       "      --hover-fill-color: #FFFFFF;\n",
       "      --disabled-bg-color: #3B4455;\n",
       "      --disabled-fill-color: #666;\n",
       "  }\n",
       "\n",
       "  .colab-df-quickchart {\n",
       "    background-color: var(--bg-color);\n",
       "    border: none;\n",
       "    border-radius: 50%;\n",
       "    cursor: pointer;\n",
       "    display: none;\n",
       "    fill: var(--fill-color);\n",
       "    height: 32px;\n",
       "    padding: 0;\n",
       "    width: 32px;\n",
       "  }\n",
       "\n",
       "  .colab-df-quickchart:hover {\n",
       "    background-color: var(--hover-bg-color);\n",
       "    box-shadow: 0 1px 2px rgba(60, 64, 67, 0.3), 0 1px 3px 1px rgba(60, 64, 67, 0.15);\n",
       "    fill: var(--button-hover-fill-color);\n",
       "  }\n",
       "\n",
       "  .colab-df-quickchart-complete:disabled,\n",
       "  .colab-df-quickchart-complete:disabled:hover {\n",
       "    background-color: var(--disabled-bg-color);\n",
       "    fill: var(--disabled-fill-color);\n",
       "    box-shadow: none;\n",
       "  }\n",
       "\n",
       "  .colab-df-spinner {\n",
       "    border: 2px solid var(--fill-color);\n",
       "    border-color: transparent;\n",
       "    border-bottom-color: var(--fill-color);\n",
       "    animation:\n",
       "      spin 1s steps(1) infinite;\n",
       "  }\n",
       "\n",
       "  @keyframes spin {\n",
       "    0% {\n",
       "      border-color: transparent;\n",
       "      border-bottom-color: var(--fill-color);\n",
       "      border-left-color: var(--fill-color);\n",
       "    }\n",
       "    20% {\n",
       "      border-color: transparent;\n",
       "      border-left-color: var(--fill-color);\n",
       "      border-top-color: var(--fill-color);\n",
       "    }\n",
       "    30% {\n",
       "      border-color: transparent;\n",
       "      border-left-color: var(--fill-color);\n",
       "      border-top-color: var(--fill-color);\n",
       "      border-right-color: var(--fill-color);\n",
       "    }\n",
       "    40% {\n",
       "      border-color: transparent;\n",
       "      border-right-color: var(--fill-color);\n",
       "      border-top-color: var(--fill-color);\n",
       "    }\n",
       "    60% {\n",
       "      border-color: transparent;\n",
       "      border-right-color: var(--fill-color);\n",
       "    }\n",
       "    80% {\n",
       "      border-color: transparent;\n",
       "      border-right-color: var(--fill-color);\n",
       "      border-bottom-color: var(--fill-color);\n",
       "    }\n",
       "    90% {\n",
       "      border-color: transparent;\n",
       "      border-bottom-color: var(--fill-color);\n",
       "    }\n",
       "  }\n",
       "</style>\n",
       "\n",
       "  <script>\n",
       "    async function quickchart(key) {\n",
       "      const quickchartButtonEl =\n",
       "        document.querySelector('#' + key + ' button');\n",
       "      quickchartButtonEl.disabled = true;  // To prevent multiple clicks.\n",
       "      quickchartButtonEl.classList.add('colab-df-spinner');\n",
       "      try {\n",
       "        const charts = await google.colab.kernel.invokeFunction(\n",
       "            'suggestCharts', [key], {});\n",
       "      } catch (error) {\n",
       "        console.error('Error during call to suggestCharts:', error);\n",
       "      }\n",
       "      quickchartButtonEl.classList.remove('colab-df-spinner');\n",
       "      quickchartButtonEl.classList.add('colab-df-quickchart-complete');\n",
       "    }\n",
       "    (() => {\n",
       "      let quickchartButtonEl =\n",
       "        document.querySelector('#df-736e3a12-c1ca-4118-9206-96953d458641 button');\n",
       "      quickchartButtonEl.style.display =\n",
       "        google.colab.kernel.accessAllowed ? 'block' : 'none';\n",
       "    })();\n",
       "  </script>\n",
       "</div>\n",
       "    </div>\n",
       "  </div>\n"
      ],
      "text/plain": [
       "            Height        Rings\n",
       "count  4177.000000  4177.000000\n",
       "mean      0.139516     9.933684\n",
       "std       0.041827     3.224169\n",
       "min       0.000000     1.000000\n",
       "25%       0.115000     8.000000\n",
       "50%       0.140000     9.000000\n",
       "75%       0.165000    11.000000\n",
       "max       1.130000    29.000000"
      ]
     },
     "execution_count": 15,
     "metadata": {},
     "output_type": "execute_result"
    }
   ],
   "source": [
    "molusco.describe()"
   ]
  },
  {
   "cell_type": "code",
   "execution_count": 16,
   "id": "xBUSanBSMrCv",
   "metadata": {
    "colab": {
     "base_uri": "https://localhost:8080/"
    },
    "executionInfo": {
     "elapsed": 4,
     "status": "ok",
     "timestamp": 1697045550628,
     "user": {
      "displayName": "Ada Maris Pereira Mário",
      "userId": "06218722616636621407"
     },
     "user_tz": 180
    },
    "id": "xBUSanBSMrCv",
    "outputId": "c2d955ce-dfa2-4c06-bbd8-3461a5d0eca2"
   },
   "outputs": [
    {
     "data": {
      "text/plain": [
       "0.0017495026644267044"
      ]
     },
     "execution_count": 16,
     "metadata": {},
     "output_type": "execute_result"
    }
   ],
   "source": [
    "molusco['Height'].var()"
   ]
  },
  {
   "cell_type": "code",
   "execution_count": 17,
   "id": "eClkNHhodLGC",
   "metadata": {
    "colab": {
     "base_uri": "https://localhost:8080/"
    },
    "executionInfo": {
     "elapsed": 8,
     "status": "ok",
     "timestamp": 1697045551382,
     "user": {
      "displayName": "Ada Maris Pereira Mário",
      "userId": "06218722616636621407"
     },
     "user_tz": 180
    },
    "id": "eClkNHhodLGC",
    "outputId": "a02ada8d-2eae-4094-dc8f-9dd187479560"
   },
   "outputs": [
    {
     "data": {
      "text/plain": [
       "10.395265947347132"
      ]
     },
     "execution_count": 17,
     "metadata": {},
     "output_type": "execute_result"
    }
   ],
   "source": [
    "molusco['Rings'].var()"
   ]
  },
  {
   "cell_type": "markdown",
   "id": "UWqNAE0afbeW",
   "metadata": {
    "id": "UWqNAE0afbeW"
   },
   "source": [
    "Em nossa base temos a variável contínua \"Height\" (Altura) que aqui nos é dada em milímetros $(mm)$."
   ]
  },
  {
   "cell_type": "code",
   "execution_count": 47,
   "id": "JJnMVya1d7xf",
   "metadata": {
    "colab": {
     "base_uri": "https://localhost:8080/",
     "height": 561
    },
    "executionInfo": {
     "elapsed": 717,
     "status": "ok",
     "timestamp": 1697056568794,
     "user": {
      "displayName": "Ada Maris Pereira Mário",
      "userId": "06218722616636621407"
     },
     "user_tz": 180
    },
    "id": "JJnMVya1d7xf",
    "outputId": "6a645357-809f-4f67-aa9c-8b94181e2f61"
   },
   "outputs": [
    {
     "data": {
      "text/plain": [
       "Text(0.5, 0, 'Altura $(mm)$')"
      ]
     },
     "execution_count": 47,
     "metadata": {},
     "output_type": "execute_result"
    },
    {
     "data": {
      "image/png": "[encoded data removed]",
      "text/plain": [
       "<Figure size 1000x600 with 1 Axes>"
      ]
     },
     "metadata": {},
     "output_type": "display_data"
    }
   ],
   "source": [
    "#Distribuição de frequências da altura\n",
    "plt.figure(figsize=(10, 6))\n",
    "molusco['Height'].hist()\n",
    "plt.xlabel('Altura $(mm)$')"
   ]
  },
  {
   "cell_type": "code",
   "execution_count": 38,
   "id": "dy5vyusGfjw0",
   "metadata": {
    "colab": {
     "base_uri": "https://localhost:8080/",
     "height": 559
    },
    "executionInfo": {
     "elapsed": 9,
     "status": "ok",
     "timestamp": 1697047840868,
     "user": {
      "displayName": "Ada Maris Pereira Mário",
      "userId": "06218722616636621407"
     },
     "user_tz": 180
    },
    "id": "dy5vyusGfjw0",
    "outputId": "a95b902c-4a67-4bd7-99ff-ecbee6e28c6e"
   },
   "outputs": [
    {
     "data": {
      "text/plain": [
       "Text(0.5, 0, 'N° de anéis')"
      ]
     },
     "execution_count": 38,
     "metadata": {},
     "output_type": "execute_result"
    },
    {
     "data": {
      "image/png": "[encoded data removed]",
      "text/plain": [
       "<Figure size 1000x600 with 1 Axes>"
      ]
     },
     "metadata": {},
     "output_type": "display_data"
    }
   ],
   "source": [
    "#Distribuição de frequências do n° de anéis\n",
    "plt.figure(figsize=(10, 6))\n",
    "molusco['Rings'].hist()\n",
    "plt.xlabel('N° de anéis')"
   ]
  },
  {
   "cell_type": "markdown",
   "id": "ULvDdGI1pPSv",
   "metadata": {
    "id": "ULvDdGI1pPSv"
   },
   "source": [
    "### c)"
   ]
  },
  {
   "cell_type": "code",
   "execution_count": 20,
   "id": "T4DPzz-2gM0z",
   "metadata": {
    "colab": {
     "base_uri": "https://localhost:8080/",
     "height": 565
    },
    "executionInfo": {
     "elapsed": 6,
     "status": "ok",
     "timestamp": 1697045558085,
     "user": {
      "displayName": "Ada Maris Pereira Mário",
      "userId": "06218722616636621407"
     },
     "user_tz": 180
    },
    "id": "T4DPzz-2gM0z",
    "outputId": "63c9e47f-5aa9-4859-a7c4-3c564e4686fd"
   },
   "outputs": [
    {
     "data": {
      "image/png": "[encoded data removed]",
      "text/plain": [
       "<Figure size 1000x600 with 1 Axes>"
      ]
     },
     "metadata": {},
     "output_type": "display_data"
    }
   ],
   "source": [
    "plt.figure(figsize=(10, 6))\n",
    "plt.scatter(molusco['Height'],molusco['Rings'])\n",
    "plt.xlabel('Altura (mm)')\n",
    "plt.ylabel('N° de anéis')\n",
    "plt.title('Dispersão dos dados - N° de anéis por altura')\n",
    "plt.show()"
   ]
  },
  {
   "cell_type": "markdown",
   "id": "JD2vt1RwgKou",
   "metadata": {
    "id": "JD2vt1RwgKou"
   },
   "source": [
    "Vê-se que a dispersão dos dados é esparsa, podendo um modelo linear não ser suficiente para explicá-la."
   ]
  },
  {
   "cell_type": "markdown",
   "id": "2onavqXApSd6",
   "metadata": {
    "id": "2onavqXApSd6"
   },
   "source": [
    "### d) & e)"
   ]
  },
  {
   "cell_type": "code",
   "execution_count": 21,
   "id": "og0rp8ZrhHlQ",
   "metadata": {
    "colab": {
     "base_uri": "https://localhost:8080/",
     "height": 553
    },
    "executionInfo": {
     "elapsed": 698,
     "status": "ok",
     "timestamp": 1697045561782,
     "user": {
      "displayName": "Ada Maris Pereira Mário",
      "userId": "06218722616636621407"
     },
     "user_tz": 180
    },
    "id": "og0rp8ZrhHlQ",
    "outputId": "83f1c772-e17f-4b76-b0ef-5b0c591b670d"
   },
   "outputs": [
    {
     "data": {
      "image/png": "[encoded data removed]",
      "text/plain": [
       "<Figure size 1000x600 with 1 Axes>"
      ]
     },
     "metadata": {},
     "output_type": "display_data"
    }
   ],
   "source": [
    "Y = molusco['Rings']\n",
    "X = molusco['Height']\n",
    "X = sm.add_constant(X)\n",
    "\n",
    "# inicializando as classes do statsmodel e ajustando o modelo.\n",
    "model = sm.OLS(Y,X)\n",
    "results = model.fit()\n",
    "model_prediction = results.predict(X[['const','Height']])\n",
    "\n",
    "fig = plt.figure(figsize=(10, 6))\n",
    "\n",
    "\n",
    "plt.plot(X['Height'],Y,'o',color='C0',alpha=0.2,label=r'Dados')\n",
    "plt.plot(X['Height'],model_prediction,'r-')\n",
    "plt.xlabel('Altura',fontsize=16)\n",
    "plt.ylabel('N° de anéis',fontsize=16)\n",
    "plt.ylim(0, 30)\n",
    "\n",
    "for ax in fig.get_axes():\n",
    "\n",
    "    ax.spines['right'].set_visible(False)\n",
    "    ax.spines['top'].set_visible(False)\n",
    "\n",
    "\n",
    "plt.show()"
   ]
  },
  {
   "cell_type": "markdown",
   "id": "3HaKeSUbgp4K",
   "metadata": {
    "id": "3HaKeSUbgp4K"
   },
   "source": [
    "Como suposto na alternativa anterior, o modelo de regressão linear não aparenta se ajustar bem aos dados, não sendo capaz de explicá-los."
   ]
  },
  {
   "cell_type": "markdown",
   "id": "_UxN3e9rpYnk",
   "metadata": {
    "id": "_UxN3e9rpYnk"
   },
   "source": [
    "### f)"
   ]
  },
  {
   "cell_type": "code",
   "execution_count": 22,
   "id": "o9ZqwcuAm9j7",
   "metadata": {
    "colab": {
     "base_uri": "https://localhost:8080/",
     "height": 452
    },
    "executionInfo": {
     "elapsed": 543,
     "status": "ok",
     "timestamp": 1697045569071,
     "user": {
      "displayName": "Ada Maris Pereira Mário",
      "userId": "06218722616636621407"
     },
     "user_tz": 180
    },
    "id": "o9ZqwcuAm9j7",
    "outputId": "6980b4c5-5e71-4bca-a021-2ea3cbf190e3"
   },
   "outputs": [
    {
     "data": {
      "text/html": [
       "<table class=\"simpletable\">\n",
       "<caption>OLS Regression Results</caption>\n",
       "<tr>\n",
       "  <th>Dep. Variable:</th>          <td>Rings</td>      <th>  R-squared:         </th> <td>   0.311</td> \n",
       "</tr>\n",
       "<tr>\n",
       "  <th>Model:</th>                   <td>OLS</td>       <th>  Adj. R-squared:    </th> <td>   0.311</td> \n",
       "</tr>\n",
       "<tr>\n",
       "  <th>Method:</th>             <td>Least Squares</td>  <th>  F-statistic:       </th> <td>   1882.</td> \n",
       "</tr>\n",
       "<tr>\n",
       "  <th>Date:</th>             <td>Wed, 11 Oct 2023</td> <th>  Prob (F-statistic):</th>  <td>  0.00</td>  \n",
       "</tr>\n",
       "<tr>\n",
       "  <th>Time:</th>                 <td>17:29:59</td>     <th>  Log-Likelihood:    </th> <td> -10039.</td> \n",
       "</tr>\n",
       "<tr>\n",
       "  <th>No. Observations:</th>      <td>  4177</td>      <th>  AIC:               </th> <td>2.008e+04</td>\n",
       "</tr>\n",
       "<tr>\n",
       "  <th>Df Residuals:</th>          <td>  4175</td>      <th>  BIC:               </th> <td>2.009e+04</td>\n",
       "</tr>\n",
       "<tr>\n",
       "  <th>Df Model:</th>              <td>     1</td>      <th>                     </th>     <td> </td>    \n",
       "</tr>\n",
       "<tr>\n",
       "  <th>Covariance Type:</th>      <td>nonrobust</td>    <th>                     </th>     <td> </td>    \n",
       "</tr>\n",
       "</table>\n",
       "<table class=\"simpletable\">\n",
       "<tr>\n",
       "     <td></td>       <th>coef</th>     <th>std err</th>      <th>t</th>      <th>P>|t|</th>  <th>[0.025</th>    <th>0.975]</th>  \n",
       "</tr>\n",
       "<tr>\n",
       "  <th>const</th>  <td>    3.9385</td> <td>    0.144</td> <td>   27.302</td> <td> 0.000</td> <td>    3.656</td> <td>    4.221</td>\n",
       "</tr>\n",
       "<tr>\n",
       "  <th>Height</th> <td>   42.9714</td> <td>    0.990</td> <td>   43.388</td> <td> 0.000</td> <td>   41.030</td> <td>   44.913</td>\n",
       "</tr>\n",
       "</table>\n",
       "<table class=\"simpletable\">\n",
       "<tr>\n",
       "  <th>Omnibus:</th>       <td>1152.248</td> <th>  Durbin-Watson:     </th> <td>   1.136</td> \n",
       "</tr>\n",
       "<tr>\n",
       "  <th>Prob(Omnibus):</th>  <td> 0.000</td>  <th>  Jarque-Bera (JB):  </th> <td>80909.975</td>\n",
       "</tr>\n",
       "<tr>\n",
       "  <th>Skew:</th>           <td> 0.369</td>  <th>  Prob(JB):          </th> <td>    0.00</td> \n",
       "</tr>\n",
       "<tr>\n",
       "  <th>Kurtosis:</th>       <td>24.549</td>  <th>  Cond. No.          </th> <td>    24.4</td> \n",
       "</tr>\n",
       "</table><br/><br/>Notes:<br/>[1] Standard Errors assume that the covariance matrix of the errors is correctly specified."
      ],
      "text/latex": [
       "\\begin{center}\n",
       "\\begin{tabular}{lclc}\n",
       "\\toprule\n",
       "\\textbf{Dep. Variable:}    &      Rings       & \\textbf{  R-squared:         } &     0.311   \\\\\n",
       "\\textbf{Model:}            &       OLS        & \\textbf{  Adj. R-squared:    } &     0.311   \\\\\n",
       "\\textbf{Method:}           &  Least Squares   & \\textbf{  F-statistic:       } &     1882.   \\\\\n",
       "\\textbf{Date:}             & Wed, 11 Oct 2023 & \\textbf{  Prob (F-statistic):} &     0.00    \\\\\n",
       "\\textbf{Time:}             &     17:29:59     & \\textbf{  Log-Likelihood:    } &   -10039.   \\\\\n",
       "\\textbf{No. Observations:} &        4177      & \\textbf{  AIC:               } & 2.008e+04   \\\\\n",
       "\\textbf{Df Residuals:}     &        4175      & \\textbf{  BIC:               } & 2.009e+04   \\\\\n",
       "\\textbf{Df Model:}         &           1      & \\textbf{                     } &             \\\\\n",
       "\\textbf{Covariance Type:}  &    nonrobust     & \\textbf{                     } &             \\\\\n",
       "\\bottomrule\n",
       "\\end{tabular}\n",
       "\\begin{tabular}{lcccccc}\n",
       "                & \\textbf{coef} & \\textbf{std err} & \\textbf{t} & \\textbf{P$> |$t$|$} & \\textbf{[0.025} & \\textbf{0.975]}  \\\\\n",
       "\\midrule\n",
       "\\textbf{const}  &       3.9385  &        0.144     &    27.302  &         0.000        &        3.656    &        4.221     \\\\\n",
       "\\textbf{Height} &      42.9714  &        0.990     &    43.388  &         0.000        &       41.030    &       44.913     \\\\\n",
       "\\bottomrule\n",
       "\\end{tabular}\n",
       "\\begin{tabular}{lclc}\n",
       "\\textbf{Omnibus:}       & 1152.248 & \\textbf{  Durbin-Watson:     } &     1.136  \\\\\n",
       "\\textbf{Prob(Omnibus):} &   0.000  & \\textbf{  Jarque-Bera (JB):  } & 80909.975  \\\\\n",
       "\\textbf{Skew:}          &   0.369  & \\textbf{  Prob(JB):          } &      0.00  \\\\\n",
       "\\textbf{Kurtosis:}      &  24.549  & \\textbf{  Cond. No.          } &      24.4  \\\\\n",
       "\\bottomrule\n",
       "\\end{tabular}\n",
       "%\\caption{OLS Regression Results}\n",
       "\\end{center}\n",
       "\n",
       "Notes: \\newline\n",
       " [1] Standard Errors assume that the covariance matrix of the errors is correctly specified."
      ],
      "text/plain": [
       "<class 'statsmodels.iolib.summary.Summary'>\n",
       "\"\"\"\n",
       "                            OLS Regression Results                            \n",
       "==============================================================================\n",
       "Dep. Variable:                  Rings   R-squared:                       0.311\n",
       "Model:                            OLS   Adj. R-squared:                  0.311\n",
       "Method:                 Least Squares   F-statistic:                     1882.\n",
       "Date:                Wed, 11 Oct 2023   Prob (F-statistic):               0.00\n",
       "Time:                        17:29:59   Log-Likelihood:                -10039.\n",
       "No. Observations:                4177   AIC:                         2.008e+04\n",
       "Df Residuals:                    4175   BIC:                         2.009e+04\n",
       "Df Model:                           1                                         \n",
       "Covariance Type:            nonrobust                                         \n",
       "==============================================================================\n",
       "                 coef    std err          t      P>|t|      [0.025      0.975]\n",
       "------------------------------------------------------------------------------\n",
       "const          3.9385      0.144     27.302      0.000       3.656       4.221\n",
       "Height        42.9714      0.990     43.388      0.000      41.030      44.913\n",
       "==============================================================================\n",
       "Omnibus:                     1152.248   Durbin-Watson:                   1.136\n",
       "Prob(Omnibus):                  0.000   Jarque-Bera (JB):            80909.975\n",
       "Skew:                           0.369   Prob(JB):                         0.00\n",
       "Kurtosis:                      24.549   Cond. No.                         24.4\n",
       "==============================================================================\n",
       "\n",
       "Notes:\n",
       "[1] Standard Errors assume that the covariance matrix of the errors is correctly specified.\n",
       "\"\"\""
      ]
     },
     "execution_count": 22,
     "metadata": {},
     "output_type": "execute_result"
    }
   ],
   "source": [
    "results.summary()"
   ]
  },
  {
   "cell_type": "markdown",
   "id": "GnYyi5A4w64z",
   "metadata": {
    "id": "GnYyi5A4w64z"
   },
   "source": [
    "Por meio desta função podemos visualizar o intervalo de 95% de confiança para os estimadores dos parâmetros. Assim, com probabilidade $0.95$, ${{\\beta}_0} ∈ [3.656,4.221]$ ou, com probabilidade $0.05$, ${{\\beta}_0} ∉ [3.656,4.221]$. Similarmente, com probabilidade $0.95$, ${{\\beta}_1} ∈ [41.030,44.913]$ ou, com probabilidade $0.05$, ${{\\beta}_1} ∉ [41.030,44.913]$."
   ]
  },
  {
   "cell_type": "markdown",
   "id": "-l94e7Ckpm53",
   "metadata": {
    "id": "-l94e7Ckpm53"
   },
   "source": [
    "### g)"
   ]
  },
  {
   "cell_type": "code",
   "execution_count": 50,
   "id": "mmiAKxAzuQkR",
   "metadata": {
    "colab": {
     "base_uri": "https://localhost:8080/"
    },
    "executionInfo": {
     "elapsed": 527,
     "status": "ok",
     "timestamp": 1697061311954,
     "user": {
      "displayName": "Ada Maris Pereira Mário",
      "userId": "06218722616636621407"
     },
     "user_tz": 180
    },
    "id": "mmiAKxAzuQkR",
    "outputId": "42a6b2d7-d744-408f-dd46-0ea39eff8ba0"
   },
   "outputs": [
    {
     "data": {
      "text/plain": [
       "array([[1.        , 0.55746732],\n",
       "       [0.55746732, 1.        ]])"
      ]
     },
     "execution_count": 50,
     "metadata": {},
     "output_type": "execute_result"
    }
   ],
   "source": [
    "# coeficiente de correlação entre o preditor e a variável resposta\n",
    "np.corrcoef(molusco['Height'],molusco['Rings'])"
   ]
  },
  {
   "cell_type": "code",
   "execution_count": 56,
   "id": "IZ0a7YM4vSVO",
   "metadata": {
    "colab": {
     "base_uri": "https://localhost:8080/"
    },
    "executionInfo": {
     "elapsed": 429,
     "status": "ok",
     "timestamp": 1697064192668,
     "user": {
      "displayName": "Ada Maris Pereira Mário",
      "userId": "06218722616636621407"
     },
     "user_tz": 180
    },
    "id": "IZ0a7YM4vSVO",
    "outputId": "89ce1d0b-9190-458d-df4c-ad8d5785d57b"
   },
   "outputs": [
    {
     "data": {
      "text/plain": [
       "array([[1.74950266e-03, 7.51786501e-02],\n",
       "       [7.51786501e-02, 1.03952659e+01]])"
      ]
     },
     "execution_count": 56,
     "metadata": {},
     "output_type": "execute_result"
    }
   ],
   "source": [
    "# covariância entre o preditor e a variável resposta\n",
    "np.cov(molusco['Height'],molusco['Rings'])"
   ]
  },
  {
   "cell_type": "code",
   "execution_count": 53,
   "id": "BXFlmMmq3422",
   "metadata": {
    "colab": {
     "base_uri": "https://localhost:8080/"
    },
    "executionInfo": {
     "elapsed": 414,
     "status": "ok",
     "timestamp": 1697063661152,
     "user": {
      "displayName": "Ada Maris Pereira Mário",
      "userId": "06218722616636621407"
     },
     "user_tz": 180
    },
    "id": "BXFlmMmq3422",
    "outputId": "303cc7d0-781f-4489-fb8b-88a6dd84ec37"
   },
   "outputs": [
    {
     "data": {
      "text/plain": [
       "43.3875885269123"
      ]
     },
     "execution_count": 53,
     "metadata": {},
     "output_type": "execute_result"
    }
   ],
   "source": [
    "t_beta1 = results.params['Height']/results.bse['Height']\n",
    "t_beta1"
   ]
  },
  {
   "cell_type": "code",
   "execution_count": 52,
   "id": "X9pdgxPL0af2",
   "metadata": {
    "colab": {
     "base_uri": "https://localhost:8080/"
    },
    "executionInfo": {
     "elapsed": 424,
     "status": "ok",
     "timestamp": 1697063586858,
     "user": {
      "displayName": "Ada Maris Pereira Mário",
      "userId": "06218722616636621407"
     },
     "user_tz": 180
    },
    "id": "X9pdgxPL0af2",
    "outputId": "f4b6019a-361e-4eae-dac3-0284fbe46794"
   },
   "outputs": [
    {
     "name": "stdout",
     "output_type": "stream",
     "text": [
      "                             Test for Constraints                             \n",
      "==============================================================================\n",
      "                 coef    std err          t      P>|t|      [0.025      0.975]\n",
      "------------------------------------------------------------------------------\n",
      "c0            42.9714      0.990     43.388      0.000      41.030      44.913\n",
      "==============================================================================\n"
     ]
    }
   ],
   "source": [
    "hypothesis = 'Height = 0' # Hipótese nula\n",
    "t_test = results.t_test(hypothesis)\n",
    "print(t_test)"
   ]
  },
  {
   "cell_type": "code",
   "execution_count": 55,
   "id": "XP0hv-7z4LSW",
   "metadata": {
    "colab": {
     "base_uri": "https://localhost:8080/"
    },
    "executionInfo": {
     "elapsed": 452,
     "status": "ok",
     "timestamp": 1697063813275,
     "user": {
      "displayName": "Ada Maris Pereira Mário",
      "userId": "06218722616636621407"
     },
     "user_tz": 180
    },
    "id": "XP0hv-7z4LSW",
    "outputId": "763a1c44-48f7-43c3-b0ff-809830a58daf"
   },
   "outputs": [
    {
     "data": {
      "text/plain": [
       "1.9605323551806586"
      ]
     },
     "execution_count": 55,
     "metadata": {},
     "output_type": "execute_result"
    }
   ],
   "source": [
    "t = abs(stats.t.ppf(0.025,4175))\n",
    "t"
   ]
  },
  {
   "cell_type": "markdown",
   "id": "GVvghjdp4s4q",
   "metadata": {
    "id": "GVvghjdp4s4q"
   },
   "source": [
    "Uma vez que $t=1.951 << 43.388=t^*$ e $(P>|t|) < {\\alpha}$, com 95% de confiança, rejeita-se $H_0:{{\\beta}_1} = 0$, ou seja, rejeita-se a hipótese de que não há uma relação estatı́stica significante entre altura e número de anéis (e, portanto, tempo de vida) dos moluscos."
   ]
  },
  {
   "cell_type": "markdown",
   "id": "UvuApt7spvvK",
   "metadata": {
    "id": "UvuApt7spvvK"
   },
   "source": [
    "### h)"
   ]
  },
  {
   "cell_type": "code",
   "execution_count": 26,
   "id": "ljH8Pf5pwTgP",
   "metadata": {
    "colab": {
     "base_uri": "https://localhost:8080/"
    },
    "executionInfo": {
     "elapsed": 935,
     "status": "ok",
     "timestamp": 1697045718338,
     "user": {
      "displayName": "Ada Maris Pereira Mário",
      "userId": "06218722616636621407"
     },
     "user_tz": 180
    },
    "id": "ljH8Pf5pwTgP",
    "outputId": "9120e206-4944-41b6-e876-e58dac016ab8"
   },
   "outputs": [
    {
     "data": {
      "text/plain": [
       "9.43880819131576"
      ]
     },
     "execution_count": 26,
     "metadata": {},
     "output_type": "execute_result"
    }
   ],
   "source": [
    "num_aneis = results.params['const'] + results.params['Height']*0.128\n",
    "num_aneis"
   ]
  },
  {
   "cell_type": "code",
   "execution_count": 29,
   "id": "NNlQQHk2wKVR",
   "metadata": {
    "colab": {
     "base_uri": "https://localhost:8080/"
    },
    "executionInfo": {
     "elapsed": 8,
     "status": "ok",
     "timestamp": 1697046224633,
     "user": {
      "displayName": "Ada Maris Pereira Mário",
      "userId": "06218722616636621407"
     },
     "user_tz": 180
    },
    "id": "NNlQQHk2wKVR",
    "outputId": "fd1ccc10-5a17-4706-94d7-bf814e47a8d0"
   },
   "outputs": [
    {
     "name": "stdout",
     "output_type": "stream",
     "text": [
      "Estimativa Pontual: 9.43880819131576\n",
      "Intervalo de Confiança (95%): [9.354578558075518, 9.523037824556]\n"
     ]
    }
   ],
   "source": [
    "# Valor da altura para a qual queremos fazer a estimativa\n",
    "new_height = 0.128\n",
    "\n",
    "# novo conjunto de dados com a altura desejada\n",
    "new_height = sm.add_constant(pd.Series([1, new_height]))\n",
    "\n",
    "# previsão para o número médio de anéis com altura 0.128\n",
    "prediction = results.predict(new_height)\n",
    "\n",
    "# Intervalo de confiança de 95% para a estimativa\n",
    "confidence_interval = results.get_prediction(new_height).conf_int()\n",
    "\n",
    "print(f\"Estimativa Pontual: {prediction[1]}\")\n",
    "print(f\"Intervalo de Confiança (95%): [{confidence_interval[1][0]}, {confidence_interval[1][1]}]\")\n"
   ]
  },
  {
   "cell_type": "markdown",
   "id": "A2PdJUx74JH6",
   "metadata": {
    "id": "A2PdJUx74JH6"
   },
   "source": [
    "### i)"
   ]
  },
  {
   "cell_type": "code",
   "execution_count": 42,
   "id": "2dyIsssX4KOq",
   "metadata": {
    "colab": {
     "base_uri": "https://localhost:8080/"
    },
    "executionInfo": {
     "elapsed": 680,
     "status": "ok",
     "timestamp": 1697055453239,
     "user": {
      "displayName": "Ada Maris Pereira Mário",
      "userId": "06218722616636621407"
     },
     "user_tz": 180
    },
    "id": "2dyIsssX4KOq",
    "outputId": "73a8ed69-d757-4f70-aa9c-8d57c364d109"
   },
   "outputs": [
    {
     "data": {
      "text/plain": [
       "9.610693954235604"
      ]
     },
     "execution_count": 42,
     "metadata": {},
     "output_type": "execute_result"
    }
   ],
   "source": [
    "num_aneis = results.params['const'] + results.params['Height']*0.132\n",
    "num_aneis"
   ]
  },
  {
   "cell_type": "code",
   "execution_count": 45,
   "id": "-0IRoq6HaBtd",
   "metadata": {
    "colab": {
     "base_uri": "https://localhost:8080/"
    },
    "executionInfo": {
     "elapsed": 547,
     "status": "ok",
     "timestamp": 1697056144752,
     "user": {
      "displayName": "Ada Maris Pereira Mário",
      "userId": "06218722616636621407"
     },
     "user_tz": 180
    },
    "id": "-0IRoq6HaBtd",
    "outputId": "02dff75b-236a-45b3-86ca-3eb268a3ec04"
   },
   "outputs": [
    {
     "name": "stdout",
     "output_type": "stream",
     "text": [
      "Valor Previsto: 9.610693954235604\n",
      "Intervalo de Predição (99%): [2.7111357889891305, 16.510252119482075]\n"
     ]
    }
   ],
   "source": [
    "# Valor da altura para a qual queremos fazer a previsão\n",
    "new_height = 0.132\n",
    "\n",
    "# Crie um novo conjunto de dados com a altura desejada\n",
    "new_height = sm.add_constant(pd.Series([1, new_height]))\n",
    "\n",
    "# Previsão para o número de anéis com altura 0.132\n",
    "prediction = results.get_prediction(new_height).summary_frame(alpha=0.01)\n",
    "\n",
    "# Intervalo de predição\n",
    "print(f\"Valor Previsto: {prediction['mean'][1]}\")\n",
    "print(f\"Intervalo de Predição (99%): [{prediction['obs_ci_lower'][1]}, {prediction['obs_ci_upper'][1]}]\")\n"
   ]
  },
  {
   "cell_type": "markdown",
   "id": "S8DH577Ky3lq",
   "metadata": {
    "id": "S8DH577Ky3lq"
   },
   "source": [
    "### j)"
   ]
  },
  {
   "cell_type": "markdown",
   "id": "OvGspFEly9Jg",
   "metadata": {
    "id": "OvGspFEly9Jg"
   },
   "source": [
    "Por meio da análise do modelo e seus coeficientes estimados, pudemos ver que há de fato uma relação positiva entre a altura do molusco e sua idade, identificada pelo n° de anéis. Todavia, apenas o modelo linear considerando a variável altura como única preditora não se mostrou suficiente para este caso, resultando em um ajuste ruim da reta. Desse modo, concluímos que há sim uma relação entre as variáveis, como proposto pela hipótese, entretanto, a utilização de outras variáveis preditoras junto da altura são necessárias para a resolução deste problema de prever a idade dos moluscos, tais como padrões climáticos, localização e consequente disponibilidade de alimento."
   ]
  }
 ],
 "metadata": {
  "colab": {
   "provenance": []
  },
  "kernelspec": {
   "display_name": "Python 3 (ipykernel)",
   "language": "python",
   "name": "python3"
  },
  "language_info": {
   "codemirror_mode": {
    "name": "ipython",
    "version": 3
   },
   "file_extension": ".py",
   "mimetype": "text/x-python",
   "name": "python",
   "nbconvert_exporter": "python",
   "pygments_lexer": "ipython3",
   "version": "3.10.12"
  }
 },
 "nbformat": 4,
 "nbformat_minor": 5
}
